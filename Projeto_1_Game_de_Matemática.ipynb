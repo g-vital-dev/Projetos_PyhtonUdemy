{
  "nbformat": 4,
  "nbformat_minor": 0,
  "metadata": {
    "colab": {
      "provenance": [],
      "authorship_tag": "ABX9TyOmHV3ZESzlwwobSB3IZ9EO",
      "include_colab_link": true
    },
    "kernelspec": {
      "name": "python3",
      "display_name": "Python 3"
    },
    "language_info": {
      "name": "python"
    }
  },
  "cells": [
    {
      "cell_type": "markdown",
      "metadata": {
        "id": "view-in-github",
        "colab_type": "text"
      },
      "source": [
        "<a href=\"https://colab.research.google.com/github/g-vital-dev/Projetos_PyhtonUdemy/blob/main/Projeto_1_Game_de_Matem%C3%A1tica.ipynb\" target=\"_parent\"><img src=\"https://colab.research.google.com/assets/colab-badge.svg\" alt=\"Open In Colab\"/></a>"
      ]
    },
    {
      "cell_type": "code",
      "source": [
        "import os\n",
        "\n",
        "# Cria a pasta para o projeto 1\n",
        "os.makedirs(\"projeto1\", exist_ok=True)\n",
        "\n",
        "# Salva o código do jogo dentro da pasta\n",
        "codigo = \"\"\"\\\n",
        "import random\n",
        "\n",
        "def gerar_operacao(nivel):\n",
        "    ...\n",
        "# (cole aqui seu código completo do jogo)\n",
        "\"\"\"\n",
        "\n",
        "with open(\"projeto1/game.py\", \"w\") as f:\n",
        "    f.write(codigo)\n",
        "\n",
        "# Cria o README do projeto 1\n",
        "readme = \"\"\"\\\n",
        "# Projeto 1 - Game de Matemática\n",
        "Descrição e instruções aqui...\n",
        "\"\"\"\n",
        "\n",
        "with open(\"projeto1/README.md\", \"w\") as f:\n",
        "    f.write(readme)\n",
        "\n",
        "# Verifique se criou a estrutura\n",
        "!tree projeto1\n"
      ],
      "metadata": {
        "id": "1sHXj1DFY4FC",
        "outputId": "7692502a-c9c7-400d-d341-ef99ba5c7b28",
        "colab": {
          "base_uri": "https://localhost:8080/"
        }
      },
      "execution_count": 3,
      "outputs": [
        {
          "output_type": "stream",
          "name": "stdout",
          "text": [
            "/bin/bash: line 1: tree: command not found\n"
          ]
        }
      ]
    },
    {
      "cell_type": "code",
      "execution_count": 1,
      "metadata": {
        "colab": {
          "base_uri": "https://localhost:8080/"
        },
        "id": "WceMc-VaWE8w",
        "outputId": "ac2aa921-10c3-4417-ade6-22a15a9bfbd4"
      },
      "outputs": [
        {
          "output_type": "stream",
          "name": "stdout",
          "text": [
            "=== Bem-vindo ao Jogo de Matemática ===\n",
            "Escolha o nível de dificuldade:\n",
            "1 - Fácil (0 a 10)\n",
            "2 - Médio (0 a 50)\n",
            "3 - Difícil (0 a 100)\n",
            "Digite o nível: 100\n",
            "Nível inválido! Usando nível 1 por padrão.\n",
            "\n",
            "Resolva: 9 - 1\n",
            "Sua resposta: 8\n",
            "✅ Correto!\n",
            "Pontuação atual: 1\n",
            "Deseja continuar? (s/n): s\n",
            "Nível inválido! Usando nível 1 por padrão.\n",
            "\n",
            "Resolva: 8 - 4\n",
            "Sua resposta: 4\n",
            "✅ Correto!\n",
            "Pontuação atual: 2\n",
            "Deseja continuar? (s/n): s\n",
            "Nível inválido! Usando nível 1 por padrão.\n",
            "\n",
            "Resolva: 9 - 6\n",
            "Sua resposta: 3\n",
            "✅ Correto!\n",
            "Pontuação atual: 3\n",
            "Deseja continuar? (s/n): s\n",
            "Nível inválido! Usando nível 1 por padrão.\n",
            "\n",
            "Resolva: 10 - 9\n",
            "Sua resposta: 1\n",
            "✅ Correto!\n",
            "Pontuação atual: 4\n",
            "Deseja continuar? (s/n): s\n",
            "Nível inválido! Usando nível 1 por padrão.\n",
            "\n",
            "Resolva: 1 - 8\n",
            "Sua resposta: -7\n",
            "✅ Correto!\n",
            "Pontuação atual: 5\n",
            "Deseja continuar? (s/n): n\n",
            "\n",
            "Fim de jogo! Sua pontuação final foi: 5\n"
          ]
        }
      ],
      "source": [
        "# Projeto 1 - Game de Matemática\n",
        "# Autor: Gabriel Vital\n",
        "# Descrição:\n",
        "# Um jogo simples onde o usuário escolhe o nível de dificuldade e resolve\n",
        "# operações matemáticas aleatórias. Cada acerto soma 1 ponto ao score.\n",
        "\n",
        "import random\n",
        "\n",
        "def gerar_operacao(nivel):\n",
        "    \"\"\"Gera dois números e uma operação aleatória de acordo com o nível escolhido.\"\"\"\n",
        "    if nivel == 1:\n",
        "        minimo, maximo = 0, 10\n",
        "    elif nivel == 2:\n",
        "        minimo, maximo = 0, 50\n",
        "    elif nivel == 3:\n",
        "        minimo, maximo = 0, 100\n",
        "    else:\n",
        "        print(\"Nível inválido! Usando nível 1 por padrão.\")\n",
        "        minimo, maximo = 0, 10\n",
        "\n",
        "    n1 = random.randint(minimo, maximo)\n",
        "    n2 = random.randint(minimo, maximo)\n",
        "    operacao = random.choice(['+', '-', '*'])\n",
        "\n",
        "    if operacao == '+':\n",
        "        resultado = n1 + n2\n",
        "    elif operacao == '-':\n",
        "        resultado = n1 - n2\n",
        "    else:\n",
        "        resultado = n1 * n2\n",
        "\n",
        "    return n1, n2, operacao, resultado\n",
        "\n",
        "\n",
        "def jogo():\n",
        "    \"\"\"Executa o loop principal do jogo.\"\"\"\n",
        "    print(\"=== Bem-vindo ao Jogo de Matemática ===\")\n",
        "    print(\"Escolha o nível de dificuldade:\")\n",
        "    print(\"1 - Fácil (0 a 10)\")\n",
        "    print(\"2 - Médio (0 a 50)\")\n",
        "    print(\"3 - Difícil (0 a 100)\")\n",
        "\n",
        "    try:\n",
        "        nivel = int(input(\"Digite o nível: \"))\n",
        "    except ValueError:\n",
        "        print(\"Entrada inválida! Usando nível 1.\")\n",
        "        nivel = 1\n",
        "\n",
        "    score = 0\n",
        "    while True:\n",
        "        n1, n2, operacao, resultado = gerar_operacao(nivel)\n",
        "        print(f\"\\nResolva: {n1} {operacao} {n2}\")\n",
        "\n",
        "        try:\n",
        "            resposta = int(input(\"Sua resposta: \"))\n",
        "        except ValueError:\n",
        "            print(\"Por favor, digite um número válido!\")\n",
        "            continue\n",
        "\n",
        "        if resposta == resultado:\n",
        "            print(\"✅ Correto!\")\n",
        "            score += 1\n",
        "        else:\n",
        "            print(f\"❌ Errado! O resultado correto era {resultado}\")\n",
        "\n",
        "        print(f\"Pontuação atual: {score}\")\n",
        "\n",
        "        continuar = input(\"Deseja continuar? (s/n): \").strip().lower()\n",
        "        if continuar != 's':\n",
        "            break\n",
        "\n",
        "    print(f\"\\nFim de jogo! Sua pontuação final foi: {score}\")\n",
        "\n",
        "\n",
        "\n",
        "jogo()\n"
      ]
    }
  ]
}